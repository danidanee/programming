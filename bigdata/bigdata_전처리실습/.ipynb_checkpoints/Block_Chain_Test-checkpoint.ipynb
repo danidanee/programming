{
 "cells": [
  {
   "cell_type": "code",
   "execution_count": 1,
   "metadata": {},
   "outputs": [],
   "source": [
    "from BlockChain_ import BlockChain"
   ]
  },
  {
   "cell_type": "code",
   "execution_count": 2,
   "metadata": {},
   "outputs": [],
   "source": [
    "Blocks = BlockChain()"
   ]
  },
  {
   "cell_type": "code",
   "execution_count": 3,
   "metadata": {},
   "outputs": [
    {
     "data": {
      "text/plain": [
       "<BlockChain_.BlockChain at 0x220eec4e0a0>"
      ]
     },
     "execution_count": 3,
     "metadata": {},
     "output_type": "execute_result"
    }
   ],
   "source": [
    "Blocks"
   ]
  },
  {
   "cell_type": "code",
   "execution_count": 4,
   "metadata": {},
   "outputs": [
    {
     "name": "stdout",
     "output_type": "stream",
     "text": [
      "[<Block_.Block object at 0x00000220EEC4E070>]\n"
     ]
    }
   ],
   "source": [
    "print(Blocks.chain)"
   ]
  },
  {
   "cell_type": "code",
   "execution_count": 5,
   "metadata": {},
   "outputs": [],
   "source": [
    "Block_1 = {\n",
    "    'Data' : '첫 번째 블록입니다.',\n",
    "    'Date' : '2020-03-18'\n",
    "}"
   ]
  },
  {
   "cell_type": "code",
   "execution_count": 6,
   "metadata": {},
   "outputs": [
    {
     "name": "stdout",
     "output_type": "stream",
     "text": [
      "Transactions : {'Data': '첫 번째 블록입니다.', 'Date': '2020-03-18'}\n",
      "Hash : 00000c73708497335bbec84db29da1792bed2f4fba79c5b99191d4beacbaa171\n"
     ]
    },
    {
     "data": {
      "text/plain": [
       "('00000c73708497335bbec84db29da1792bed2f4fba79c5b99191d4beacbaa171',\n",
       " <Block_.Block at 0x220eec4e8e0>)"
      ]
     },
     "execution_count": 6,
     "metadata": {},
     "output_type": "execute_result"
    }
   ],
   "source": [
    "Blocks.add_block(Block_1)"
   ]
  },
  {
   "cell_type": "code",
   "execution_count": 7,
   "metadata": {},
   "outputs": [
    {
     "name": "stdout",
     "output_type": "stream",
     "text": [
      "[<Block_.Block object at 0x00000220EEC4E070>, <Block_.Block object at 0x00000220EEC4E8E0>]\n"
     ]
    }
   ],
   "source": [
    "print(Blocks.chain)"
   ]
  },
  {
   "cell_type": "code",
   "execution_count": 8,
   "metadata": {},
   "outputs": [
    {
     "name": "stdout",
     "output_type": "stream",
     "text": [
      "True\n"
     ]
    }
   ],
   "source": [
    "print(Blocks.validate_chain())"
   ]
  },
  {
   "cell_type": "code",
   "execution_count": 9,
   "metadata": {},
   "outputs": [
    {
     "name": "stdout",
     "output_type": "stream",
     "text": [
      "69e127beab71a9903289d36e800c2a5f994b28f08cbfb3a92911a261b7b106c6\n",
      "69e127beab71a9903289d36e800c2a5f994b28f08cbfb3a92911a261b7b106c6\n"
     ]
    }
   ],
   "source": [
    "current = Blocks.chain[0]\n",
    "print(current.hash)\n",
    "print(current.generate_hash())"
   ]
  },
  {
   "cell_type": "code",
   "execution_count": 10,
   "metadata": {},
   "outputs": [
    {
     "name": "stdout",
     "output_type": "stream",
     "text": [
      "00000c73708497335bbec84db29da1792bed2f4fba79c5b99191d4beacbaa171\n",
      "00000c73708497335bbec84db29da1792bed2f4fba79c5b99191d4beacbaa171\n"
     ]
    }
   ],
   "source": [
    "current = Blocks.chain[1]\n",
    "print(current.hash)\n",
    "print(current.generate_hash())"
   ]
  },
  {
   "cell_type": "code",
   "execution_count": 11,
   "metadata": {},
   "outputs": [
    {
     "name": "stdout",
     "output_type": "stream",
     "text": [
      "69e127beab71a9903289d36e800c2a5f994b28f08cbfb3a92911a261b7b106c6\n",
      "69e127beab71a9903289d36e800c2a5f994b28f08cbfb3a92911a261b7b106c6\n"
     ]
    }
   ],
   "source": [
    "previous = Blocks.chain[0]\n",
    "print(current.previous_hash)\n",
    "print(previous.generate_hash())"
   ]
  },
  {
   "cell_type": "code",
   "execution_count": 12,
   "metadata": {},
   "outputs": [],
   "source": [
    "Block_2 = {\n",
    "    'Data' : '두 번째 블록입니다.',\n",
    "    'Date' : '2020-03-18'\n",
    "}"
   ]
  },
  {
   "cell_type": "code",
   "execution_count": 13,
   "metadata": {},
   "outputs": [
    {
     "name": "stdout",
     "output_type": "stream",
     "text": [
      "Transactions : {'Data': '두 번째 블록입니다.', 'Date': '2020-03-18'}\n",
      "Hash : 00000821888b9c28dcd802ea3afdb81dbc03abcb1794ba504e85f642729ec0c5\n"
     ]
    },
    {
     "data": {
      "text/plain": [
       "('00000821888b9c28dcd802ea3afdb81dbc03abcb1794ba504e85f642729ec0c5',\n",
       " <Block_.Block at 0x220eec4eeb0>)"
      ]
     },
     "execution_count": 13,
     "metadata": {},
     "output_type": "execute_result"
    }
   ],
   "source": [
    "Blocks.add_block(Block_2)"
   ]
  },
  {
   "cell_type": "code",
   "execution_count": 14,
   "metadata": {},
   "outputs": [
    {
     "name": "stdout",
     "output_type": "stream",
     "text": [
      "0\n",
      "793589\n",
      "2802704\n"
     ]
    }
   ],
   "source": [
    "print(Blocks.chain[0].nonce)\n",
    "print(Blocks.chain[1].nonce)\n",
    "print(Blocks.chain[2].nonce)"
   ]
  },
  {
   "cell_type": "code",
   "execution_count": 15,
   "metadata": {},
   "outputs": [
    {
     "name": "stdout",
     "output_type": "stream",
     "text": [
      "[<Block_.Block object at 0x00000220EEC4E070>, <Block_.Block object at 0x00000220EEC4E8E0>, <Block_.Block object at 0x00000220EEC4EEB0>]\n"
     ]
    }
   ],
   "source": [
    "print(Blocks.chain)"
   ]
  },
  {
   "cell_type": "code",
   "execution_count": 16,
   "metadata": {},
   "outputs": [
    {
     "name": "stdout",
     "output_type": "stream",
     "text": [
      "True\n"
     ]
    }
   ],
   "source": [
    "print(Blocks.validate_chain())"
   ]
  },
  {
   "cell_type": "code",
   "execution_count": 17,
   "metadata": {},
   "outputs": [],
   "source": [
    "Block_fake = {\n",
    "    'Data' : '첫 번째 블록일까요??',\n",
    "    'Date' : '2020-03-18'\n",
    "}"
   ]
  },
  {
   "cell_type": "code",
   "execution_count": 18,
   "metadata": {},
   "outputs": [],
   "source": [
    "Blocks.chain[1].transactions = Block_fake"
   ]
  },
  {
   "cell_type": "code",
   "execution_count": 19,
   "metadata": {},
   "outputs": [
    {
     "name": "stdout",
     "output_type": "stream",
     "text": [
      "Transactions : {'Data': '첫 번째 블록일까요??', 'Date': '2020-03-18'}\n",
      "Hash : e2273e6bd0553022e4696da0b4665a15a9e8a5c1acbc70b90a8f0e3bb015dbb4\n"
     ]
    }
   ],
   "source": [
    "Blocks.chain[1].print_block()"
   ]
  },
  {
   "cell_type": "code",
   "execution_count": null,
   "metadata": {},
   "outputs": [],
   "source": []
  }
 ],
 "metadata": {
  "kernelspec": {
   "display_name": "Python 3",
   "language": "python",
   "name": "python3"
  },
  "language_info": {
   "codemirror_mode": {
    "name": "ipython",
    "version": 3
   },
   "file_extension": ".py",
   "mimetype": "text/x-python",
   "name": "python",
   "nbconvert_exporter": "python",
   "pygments_lexer": "ipython3",
   "version": "3.8.2"
  }
 },
 "nbformat": 4,
 "nbformat_minor": 4
}
