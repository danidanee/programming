{
 "cells": [
  {
   "cell_type": "code",
   "execution_count": 1,
   "metadata": {},
   "outputs": [],
   "source": [
    "from hashlib import sha256"
   ]
  },
  {
   "cell_type": "code",
   "execution_count": 2,
   "metadata": {},
   "outputs": [],
   "source": [
    "class Block:\n",
    "    def __init__(self, transactions, previous_hash, nonce = 0):\n",
    "        self.data = data\n",
    "        self.previous_hash = previous_hash\n",
    "        self.nonce = nonce\n",
    "        self.hash = self.generate_hash()"
   ]
  },
  {
   "cell_type": "code",
   "execution_count": 3,
   "metadata": {},
   "outputs": [
    {
     "name": "stdout",
     "output_type": "stream",
     "text": [
      "8500b59bb5271135cd9bcbf0afd693028d76df3b9c7da58d412b13fc8a8f9394\n"
     ]
    }
   ],
   "source": [
    "test_content = 'Genesis Block'+'0'\n",
    "test_hash = sha256(test_content.encode())\n",
    "print(test_hash.hexdigest())"
   ]
  },
  {
   "cell_type": "code",
   "execution_count": 6,
   "metadata": {},
   "outputs": [
    {
     "name": "stdout",
     "output_type": "stream",
     "text": [
      "60ecfa92792947c9bd5a5653db8fe9e8d7dbf505e3315569120bde50565d790f\n"
     ]
    }
   ],
   "source": [
    "test_content = '2nd'+'423714'\n",
    "test_hash = sha256(test_content.encode())\n",
    "print(test_hash.hexdigest())"
   ]
  },
  {
   "cell_type": "code",
   "execution_count": 5,
   "metadata": {},
   "outputs": [
    {
     "name": "stdout",
     "output_type": "stream",
     "text": [
      "2nd461973\n",
      "00000ec94ea71f711d3658a0cc59ede578d7abd1cbb1d76b17c64438e7261948\n"
     ]
    }
   ],
   "source": [
    "nonce = 0;\n",
    "while True:\n",
    "    test_content = '2nd'+ str(nonce)\n",
    "    test_hash = sha256(test_content.encode())\n",
    "    if test_hash.hexdigest()[0:5] == '00000' : \n",
    "        print(test_content)\n",
    "        print(test_hash.hexdigest())\n",
    "        break\n",
    "    else : nonce = nonce+1"
   ]
  }
 ],
 "metadata": {
  "kernelspec": {
   "display_name": "Python 3",
   "language": "python",
   "name": "python3"
  },
  "language_info": {
   "codemirror_mode": {
    "name": "ipython",
    "version": 3
   },
   "file_extension": ".py",
   "mimetype": "text/x-python",
   "name": "python",
   "nbconvert_exporter": "python",
   "pygments_lexer": "ipython3",
   "version": "3.8.2"
  }
 },
 "nbformat": 4,
 "nbformat_minor": 4
}
